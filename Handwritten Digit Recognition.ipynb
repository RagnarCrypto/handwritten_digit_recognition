{
  "nbformat": 4,
  "nbformat_minor": 0,
  "metadata": {
    "colab": {
      "name": "Handswritten Digits Recognition.ipynb",
      "provenance": [],
      "collapsed_sections": []
    },
    "kernelspec": {
      "name": "python3",
      "display_name": "Python 3"
    },
    "language_info": {
      "name": "python"
    }
  },
  "cells": [
    {
      "cell_type": "code",
      "metadata": {
        "id": "iGFlQGd9V-WP"
      },
      "source": [
        "from tensorflow.keras.datasets import mnist\n",
        "from tensorflow.keras.models import Sequential\n",
        "from tensorflow.keras.layers import Dense\n",
        "from tensorflow.keras.optimizers import Adam\n",
        "from tensorflow.keras.optimizers import Adamax\n",
        "from tensorflow.keras import utils\n",
        "from tensorflow.keras.preprocessing import image\n",
        "import numpy as np\n",
        "import pylab\n",
        "from google.colab import files\n",
        "import matplotlib.pyplot as plt\n",
        "from PIL import Image\n",
        "import PIL.ImageOps \n",
        "%matplotlib inline"
      ],
      "execution_count": 1,
      "outputs": []
    },
    {
      "cell_type": "code",
      "metadata": {
        "id": "yyVaEEl0YNY7"
      },
      "source": [
        "(x_train_in, y_train_in), (x_test_in, y_test_in) = mnist.load_data() #Import training/test data"
      ],
      "execution_count": null,
      "outputs": []
    },
    {
      "cell_type": "code",
      "metadata": {
        "id": "kM4pELzKa7Tk"
      },
      "source": [
        "x_train_in"
      ],
      "execution_count": null,
      "outputs": []
    },
    {
      "cell_type": "code",
      "metadata": {
        "id": "5-mFNRRJbe_X"
      },
      "source": [
        "print(x_train_in.shape)\n",
        "print(x_test_in.shape)"
      ],
      "execution_count": null,
      "outputs": []
    },
    {
      "cell_type": "code",
      "metadata": {
        "id": "La2kL9UYbEeH"
      },
      "source": [
        "n = 42456 #picture number\n",
        "plt.imshow(x_train_in[n]) #processing\n",
        "plt.show() #showing"
      ],
      "execution_count": null,
      "outputs": []
    },
    {
      "cell_type": "code",
      "metadata": {
        "colab": {
          "base_uri": "https://localhost:8080/"
        },
        "id": "s138V72GP4G-",
        "outputId": "0119fafd-d39f-4b01-8fd4-ca34fef6624c"
      },
      "source": [
        ""
      ],
      "execution_count": null,
      "outputs": [
        {
          "output_type": "stream",
          "text": [
            "42000\n"
          ],
          "name": "stdout"
        }
      ]
    },
    {
      "cell_type": "code",
      "metadata": {
        "colab": {
          "base_uri": "https://localhost:8080/"
        },
        "id": "klSiBq11bwis",
        "outputId": "2b49f733-457a-4adf-9a99-3abb030c81d3"
      },
      "source": [
        "# reshape format from matrix 28x28 to vector 784x1\n",
        "x_train = x_train_in.reshape(60000, 784)\n",
        "x_test = x_test_in.reshape(10000,784)\n",
        "print(x_train.shape)\n",
        "print(x_test.shape)"
      ],
      "execution_count": 6,
      "outputs": [
        {
          "output_type": "stream",
          "name": "stdout",
          "text": [
            "(60000, 784)\n",
            "(10000, 784)\n"
          ]
        }
      ]
    },
    {
      "cell_type": "code",
      "metadata": {
        "id": "CWFu8mzjdH3n"
      },
      "source": [
        "# Normalization\n",
        "x_train = x_train.astype('float32')\n",
        "x_train =  x_train/255\n",
        "x_test = x_test.astype('float32')\n",
        "x_test = x_test/255\n",
        "#print(x_test[0])\n",
        "#print(x_train[0])"
      ],
      "execution_count": 7,
      "outputs": []
    },
    {
      "cell_type": "code",
      "metadata": {
        "id": "IDLSLhzdejXZ"
      },
      "source": [
        "# Conver to one_hot_ecoding \n",
        "y_train = utils.to_categorical(y_train_in, 10)\n",
        "y_test = utils.to_categorical(y_test_in,10)\n",
        "print(y_train.shape)\n",
        "print(y_test.shape)"
      ],
      "execution_count": null,
      "outputs": []
    },
    {
      "cell_type": "code",
      "metadata": {
        "id": "O3r7ogRdf0iI"
      },
      "source": [
        "print(y_train[n])"
      ],
      "execution_count": null,
      "outputs": []
    },
    {
      "cell_type": "code",
      "metadata": {
        "id": "CNeRsLBgf56X"
      },
      "source": [
        "model_numbers = Sequential() #Creating model\n",
        "model_numbers.add(Dense(1600, input_dim=784,activation='relu')) #1st layer\n",
        "model_numbers.add(Dense(800, activation='relu')) #2nd layer\n",
        "model_numbers.add(Dense(10, activation='softmax')) #1st layer"
      ],
      "execution_count": 10,
      "outputs": []
    },
    {
      "cell_type": "code",
      "metadata": {
        "id": "ZwQO6uYcgmWn"
      },
      "source": [
        "model_numbers.compile(loss='categorical_crossentropy', optimizer='adam', metrics=['accuracy'])\n",
        "print(model_numbers.summary())"
      ],
      "execution_count": null,
      "outputs": []
    },
    {
      "cell_type": "code",
      "metadata": {
        "id": "ZoVe9S04jYr4"
      },
      "source": [
        "#train model\n",
        "model_numbers.fit(x_train, y_train, batch_size=128, epochs=15, verbose=1, validation_split=0.2)"
      ],
      "execution_count": null,
      "outputs": []
    },
    {
      "cell_type": "code",
      "metadata": {
        "id": "mKbV_Kc2nZ7S"
      },
      "source": [
        "#test\n",
        "#choose number\n",
        "n_test = 5658\n",
        "plt.imshow(x_test_in[n_test], cmap='Greys')\n",
        "plt.show()"
      ],
      "execution_count": null,
      "outputs": []
    },
    {
      "cell_type": "code",
      "metadata": {
        "id": "LZedK6h8oEQq"
      },
      "source": [
        "x = x_test[n_test]\n",
        "print(x.shape)"
      ],
      "execution_count": null,
      "outputs": []
    },
    {
      "cell_type": "code",
      "metadata": {
        "id": "Ego9y8OaoOt4"
      },
      "source": [
        "x = np.expand_dims(x, axis=0)\n",
        "print(x.shape)"
      ],
      "execution_count": null,
      "outputs": []
    },
    {
      "cell_type": "code",
      "metadata": {
        "id": "j9wyWfKaoYxY"
      },
      "source": [
        "prediction = model_numbers.predict(x)\n",
        "print(prediction)"
      ],
      "execution_count": null,
      "outputs": []
    },
    {
      "cell_type": "code",
      "metadata": {
        "id": "-AH9Dzbmok67"
      },
      "source": [
        "prediction = np.argmax(prediction)\n",
        "print(prediction)\n",
        "print(y_test_in[n_test])"
      ],
      "execution_count": null,
      "outputs": []
    },
    {
      "cell_type": "code",
      "metadata": {
        "id": "HLZmDKcsM6fS"
      },
      "source": [
        "#own number 1\n",
        "im1 = image.load_img('/content/4_.png', target_size=(28, 28), color_mode = \"grayscale\")"
      ],
      "execution_count": null,
      "outputs": []
    },
    {
      "cell_type": "code",
      "metadata": {
        "id": "9hzQkAi0NpFU"
      },
      "source": [
        "plt.imshow(im1,cmap='Greys')\n",
        "plt.show()"
      ],
      "execution_count": null,
      "outputs": []
    },
    {
      "cell_type": "code",
      "metadata": {
        "id": "669Prl8lR1Cs"
      },
      "source": [
        "#invert image\n",
        "inverted_image = PIL.ImageOps.invert(im1)"
      ],
      "execution_count": null,
      "outputs": []
    },
    {
      "cell_type": "code",
      "metadata": {
        "id": "y2KinUEySEW7"
      },
      "source": [
        "plt.imshow(inverted_image,cmap='Greys')\n",
        "plt.show()"
      ],
      "execution_count": null,
      "outputs": []
    },
    {
      "cell_type": "code",
      "metadata": {
        "id": "KKIFyqufSMrv"
      },
      "source": [
        "#img to array\n",
        "im1_np = image.img_to_array(inverted_image) \n",
        "print(im1_np.shape)\n"
      ],
      "execution_count": null,
      "outputs": []
    },
    {
      "cell_type": "code",
      "metadata": {
        "id": "Vz2pvp1uSeFa"
      },
      "source": [
        "#normalization and reshape\n",
        "im1_test = im1_np.astype('float32')\n",
        "im1_test =  im1_test/255\n",
        "im1_test = im1_test.reshape(1,784)\n",
        "print(im1_test.shape)"
      ],
      "execution_count": null,
      "outputs": []
    },
    {
      "cell_type": "code",
      "metadata": {
        "id": "GJkQkshxTFZg"
      },
      "source": [
        "prediction = model_numbers.predict(im1_test)\n",
        "print(prediction)"
      ],
      "execution_count": null,
      "outputs": []
    },
    {
      "cell_type": "code",
      "metadata": {
        "id": "ZAEYOi-vTbXd"
      },
      "source": [
        "prediction = np.argmax(prediction)\n",
        "print(prediction)\n"
      ],
      "execution_count": null,
      "outputs": []
    },
    {
      "cell_type": "code",
      "metadata": {
        "id": "usIu8_9EVB65"
      },
      "source": [
        "#own number 2\n",
        "im2 = image.load_img('/content/6_.png', target_size=(28, 28), color_mode = \"grayscale\")"
      ],
      "execution_count": null,
      "outputs": []
    },
    {
      "cell_type": "code",
      "metadata": {
        "id": "KgQ2xMr5VOjR"
      },
      "source": [
        "plt.imshow(im2.convert('RGBA')) \n",
        "plt.show()"
      ],
      "execution_count": null,
      "outputs": []
    },
    {
      "cell_type": "code",
      "metadata": {
        "id": "Ta4kMEhyVZve"
      },
      "source": [
        "# img to array and reshape\n",
        "im2 = image.img_to_array(im2)\n",
        "im2 = im2.reshape(1,784)\n",
        "print(im2)"
      ],
      "execution_count": null,
      "outputs": []
    },
    {
      "cell_type": "code",
      "metadata": {
        "id": "2YrZLlAEVn4-"
      },
      "source": [
        "im2 = np.where(im2 > 100, 255, im2) # change values following condition\n",
        "im2"
      ],
      "execution_count": null,
      "outputs": []
    },
    {
      "cell_type": "code",
      "metadata": {
        "id": "-Ww_2q1pWUwh"
      },
      "source": [
        "plt.imshow(Image.fromarray(im2.reshape(28,28)).convert('RGBA')) # Нарисуем картинку после обработки\n",
        "plt.show()"
      ],
      "execution_count": null,
      "outputs": []
    },
    {
      "cell_type": "code",
      "metadata": {
        "id": "OhLud3bQWzAg"
      },
      "source": [
        "im2 = im2.astype('float32')\n",
        "im2 = 1 - im2/255"
      ],
      "execution_count": null,
      "outputs": []
    },
    {
      "cell_type": "code",
      "metadata": {
        "id": "w_pkZYq2We1f"
      },
      "source": [
        "#prediction\n",
        "pred_own2 = model_numbers.predict(im2)\n",
        "print(pred_own2)"
      ],
      "execution_count": null,
      "outputs": []
    },
    {
      "cell_type": "code",
      "metadata": {
        "id": "3eIXxi4iXCFu"
      },
      "source": [
        "pred = np.argmax(pred_own2)\n",
        "print(pred)"
      ],
      "execution_count": null,
      "outputs": []
    }
  ]
}